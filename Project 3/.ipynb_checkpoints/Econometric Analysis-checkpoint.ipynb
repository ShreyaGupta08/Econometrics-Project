{
 "cells": [
  {
   "cell_type": "markdown",
   "metadata": {},
   "source": [
    "# About the Dataset\n",
    "\n",
    "### World Happiness Report Data for 2017 from their website:\n",
    "\n",
    "The first World Happiness Report was published in April, 2012, in support of the UN High Level Meeting on happiness and well-being. Since then the world has come a long way. Increasingly, happiness is considered to be the proper measure of social progress and the goal of public policy. In June 2016 the OECD committed itself “to redefine the growth narrative to put people’s well-being at the center of governments’ efforts”. In February 2017, the United Arab Emirates held a full-day World Happiness meeting, as part of the World Government Summit. Now on World Happiness Day, March 20th, we launch the World Happiness Report 2017, once again back at the United Nations, again published by the Sustainable Development Solutions Network, and now supported by a generous three-year grant from the Ernesto Illy Foundation. Some highlights are as follows.\n",
    "\n",
    "Source: Helliwell, J., Layard, R., & Sachs, J. (2017). World Happiness Report 2017, New York: Sustainable Development Solutions Network.\n",
    "\n",
    "##### Dictionary:\n",
    "\n",
    "![Dictionary](img/DictionaryData.png)\n",
    "\n",
    "##### Labeled Visualized Happiness Data Comparison of various countries on varous factors:\n",
    "\n",
    "![data1-image](img/Data1_Happiness.png)\n",
    "\n",
    "\n",
    "![data2-image](img/Data2_Happiness.png)\n",
    "\n",
    "\n",
    "![data3-image](img/Data3_Happiness.png)\n",
    "\n",
    "\n",
    "\n"
   ]
  },
  {
   "cell_type": "markdown",
   "metadata": {},
   "source": [
    "### Review of Regression and Correlation [ To be Completed ]\n",
    "\n",
    "What is Linear Regression?\n",
    "\n",
    "Why use Linear Regression?\n",
    "\n",
    "What is Correlation?\n",
    "\n",
    "Explain Regression with formulas\n",
    "    Cost function\n",
    "    Gradient descent step\n",
    "    Optimal Coefficients\n",
    "    Predicting the value\n",
    "    Accuracy Score\n",
    "    Plotting\n",
    "\n",
    "Explain Correlation with formula and graphs\n",
    "\n",
    "    Correlation Formula\n",
    "    Correlation Coeff\n",
    "    Correlation Values and meaning of a positive or negative correlation\n",
    "    Calculates a Pearson correlation coefficient and the p-value for testing non-correlation.\n",
    "\n",
    "The Pearson correlation coefficient measures the linear relationship between two datasets. Strictly speaking, Pearson’s correlation requires that each dataset be normally distributed. Like other correlation coefficients, this one varies between -1 and +1 with 0 implying no correlation. Correlations of -1 or +1 imply an exact linear relationship. Positive correlations imply that as x increases, so does y. Negative correlations imply that as x increases, y decreases.\n",
    "\n",
    "The p-value roughly indicates the probability of an uncorrelated system producing datasets that have a Pearson correlation at least as extreme as the one computed from these datasets. The p-values are not entirely reliable but are probably reasonable for datasets larger than 500 or so.\n",
    "\n"
   ]
  },
  {
   "cell_type": "markdown",
   "metadata": {},
   "source": [
    "# Explaination of the Code\n",
    "\n",
    "\n",
    "\n",
    "\n"
   ]
  },
  {
   "cell_type": "markdown",
   "metadata": {},
   "source": [
    "### Import important libraries "
   ]
  },
  {
   "cell_type": "code",
   "execution_count": 8,
   "metadata": {
    "collapsed": true
   },
   "outputs": [],
   "source": [
    "import pandas as pd\n",
    "import numpy as np\n",
    "from sklearn.preprocessing import Imputer\n",
    "from sklearn.model_selection import train_test_split\n",
    "from sklearn.linear_model import LinearRegression as LR\n",
    "from sklearn.preprocessing import LabelEncoder\n",
    "from sklearn.preprocessing import OneHotEncoder\n",
    "import matplotlib.pyplot as plt\n",
    "import scipy as sp\n",
    "from sklearn.metrics import accuracy_score as AccuracyScore"
   ]
  },
  {
   "cell_type": "markdown",
   "metadata": {},
   "source": [
    "### Read the dataset"
   ]
  },
  {
   "cell_type": "code",
   "execution_count": 9,
   "metadata": {
    "collapsed": true
   },
   "outputs": [],
   "source": [
    "# data=pd.read_excel(\"World Happiness Data.xlsx\")\n",
    "data=pd.read_csv(\"World Happiness Data.csv\")\n",
    "data1=data[data.year==2016]\n",
    "data1=data1.reset_index()"
   ]
  },
  {
   "cell_type": "code",
   "execution_count": 10,
   "metadata": {},
   "outputs": [
    {
     "data": {
      "text/html": [
       "<div>\n",
       "<style>\n",
       "    .dataframe thead tr:only-child th {\n",
       "        text-align: right;\n",
       "    }\n",
       "\n",
       "    .dataframe thead th {\n",
       "        text-align: left;\n",
       "    }\n",
       "\n",
       "    .dataframe tbody tr th {\n",
       "        vertical-align: top;\n",
       "    }\n",
       "</style>\n",
       "<table border=\"1\" class=\"dataframe\">\n",
       "  <thead>\n",
       "    <tr style=\"text-align: right;\">\n",
       "      <th></th>\n",
       "      <th>index</th>\n",
       "      <th>WP5 Country</th>\n",
       "      <th>country</th>\n",
       "      <th>year</th>\n",
       "      <th>Life Ladder</th>\n",
       "      <th>Log GDP per capita</th>\n",
       "      <th>Social support</th>\n",
       "      <th>Healthy life expectancy at birth</th>\n",
       "      <th>Freedom to make life choices</th>\n",
       "      <th>Generosity</th>\n",
       "      <th>Perceptions of corruption</th>\n",
       "      <th>Positive affect</th>\n",
       "      <th>Negative affect</th>\n",
       "      <th>Confidence in national government</th>\n",
       "      <th>Democratic Quality</th>\n",
       "      <th>Delivery Quality</th>\n",
       "      <th>Standard deviation of ladder by country-year</th>\n",
       "      <th>Standard deviation/Mean of ladder by country-year</th>\n",
       "    </tr>\n",
       "  </thead>\n",
       "  <tbody>\n",
       "    <tr>\n",
       "      <th>0</th>\n",
       "      <td>8</td>\n",
       "      <td>Afghanistan</td>\n",
       "      <td>Afghanistan</td>\n",
       "      <td>2016</td>\n",
       "      <td>4.220169</td>\n",
       "      <td>7.497288</td>\n",
       "      <td>0.559072</td>\n",
       "      <td>49.871265</td>\n",
       "      <td>0.522566</td>\n",
       "      <td>0.057393</td>\n",
       "      <td>0.793246</td>\n",
       "      <td>0.564953</td>\n",
       "      <td>0.348332</td>\n",
       "      <td>0.324990</td>\n",
       "      <td>NaN</td>\n",
       "      <td>NaN</td>\n",
       "      <td>1.796219</td>\n",
       "      <td>0.425627</td>\n",
       "    </tr>\n",
       "    <tr>\n",
       "      <th>1</th>\n",
       "      <td>17</td>\n",
       "      <td>Albania</td>\n",
       "      <td>Albania</td>\n",
       "      <td>2016</td>\n",
       "      <td>4.511101</td>\n",
       "      <td>9.282300</td>\n",
       "      <td>0.638411</td>\n",
       "      <td>68.698380</td>\n",
       "      <td>0.729819</td>\n",
       "      <td>-0.017927</td>\n",
       "      <td>0.901071</td>\n",
       "      <td>0.675244</td>\n",
       "      <td>0.321706</td>\n",
       "      <td>0.400910</td>\n",
       "      <td>NaN</td>\n",
       "      <td>NaN</td>\n",
       "      <td>2.646668</td>\n",
       "      <td>0.586701</td>\n",
       "    </tr>\n",
       "    <tr>\n",
       "      <th>2</th>\n",
       "      <td>22</td>\n",
       "      <td>Algeria</td>\n",
       "      <td>Algeria</td>\n",
       "      <td>2016</td>\n",
       "      <td>5.388171</td>\n",
       "      <td>9.549138</td>\n",
       "      <td>0.748150</td>\n",
       "      <td>64.829948</td>\n",
       "      <td>NaN</td>\n",
       "      <td>NaN</td>\n",
       "      <td>NaN</td>\n",
       "      <td>0.668838</td>\n",
       "      <td>0.371372</td>\n",
       "      <td>NaN</td>\n",
       "      <td>NaN</td>\n",
       "      <td>NaN</td>\n",
       "      <td>2.109472</td>\n",
       "      <td>0.391501</td>\n",
       "    </tr>\n",
       "    <tr>\n",
       "      <th>3</th>\n",
       "      <td>37</td>\n",
       "      <td>Argentina</td>\n",
       "      <td>Argentina</td>\n",
       "      <td>2016</td>\n",
       "      <td>6.427221</td>\n",
       "      <td>NaN</td>\n",
       "      <td>0.882819</td>\n",
       "      <td>67.443993</td>\n",
       "      <td>0.847702</td>\n",
       "      <td>NaN</td>\n",
       "      <td>0.850924</td>\n",
       "      <td>0.841907</td>\n",
       "      <td>0.311646</td>\n",
       "      <td>0.419562</td>\n",
       "      <td>NaN</td>\n",
       "      <td>NaN</td>\n",
       "      <td>2.127109</td>\n",
       "      <td>0.330953</td>\n",
       "    </tr>\n",
       "    <tr>\n",
       "      <th>4</th>\n",
       "      <td>48</td>\n",
       "      <td>Armenia</td>\n",
       "      <td>Armenia</td>\n",
       "      <td>2016</td>\n",
       "      <td>4.325472</td>\n",
       "      <td>8.989569</td>\n",
       "      <td>0.709218</td>\n",
       "      <td>65.409470</td>\n",
       "      <td>0.610987</td>\n",
       "      <td>-0.155814</td>\n",
       "      <td>0.921421</td>\n",
       "      <td>0.593600</td>\n",
       "      <td>0.437228</td>\n",
       "      <td>0.184713</td>\n",
       "      <td>NaN</td>\n",
       "      <td>NaN</td>\n",
       "      <td>2.126364</td>\n",
       "      <td>0.491591</td>\n",
       "    </tr>\n",
       "  </tbody>\n",
       "</table>\n",
       "</div>"
      ],
      "text/plain": [
       "   index  WP5 Country      country  year  Life Ladder  Log GDP per capita  \\\n",
       "0      8  Afghanistan  Afghanistan  2016     4.220169            7.497288   \n",
       "1     17      Albania      Albania  2016     4.511101            9.282300   \n",
       "2     22      Algeria      Algeria  2016     5.388171            9.549138   \n",
       "3     37    Argentina    Argentina  2016     6.427221                 NaN   \n",
       "4     48      Armenia      Armenia  2016     4.325472            8.989569   \n",
       "\n",
       "   Social support  Healthy life expectancy at birth  \\\n",
       "0        0.559072                         49.871265   \n",
       "1        0.638411                         68.698380   \n",
       "2        0.748150                         64.829948   \n",
       "3        0.882819                         67.443993   \n",
       "4        0.709218                         65.409470   \n",
       "\n",
       "   Freedom to make life choices  Generosity  Perceptions of corruption  \\\n",
       "0                      0.522566    0.057393                   0.793246   \n",
       "1                      0.729819   -0.017927                   0.901071   \n",
       "2                           NaN         NaN                        NaN   \n",
       "3                      0.847702         NaN                   0.850924   \n",
       "4                      0.610987   -0.155814                   0.921421   \n",
       "\n",
       "   Positive affect  Negative affect  Confidence in national government  \\\n",
       "0         0.564953         0.348332                           0.324990   \n",
       "1         0.675244         0.321706                           0.400910   \n",
       "2         0.668838         0.371372                                NaN   \n",
       "3         0.841907         0.311646                           0.419562   \n",
       "4         0.593600         0.437228                           0.184713   \n",
       "\n",
       "   Democratic Quality  Delivery Quality  \\\n",
       "0                 NaN               NaN   \n",
       "1                 NaN               NaN   \n",
       "2                 NaN               NaN   \n",
       "3                 NaN               NaN   \n",
       "4                 NaN               NaN   \n",
       "\n",
       "   Standard deviation of ladder by country-year  \\\n",
       "0                                      1.796219   \n",
       "1                                      2.646668   \n",
       "2                                      2.109472   \n",
       "3                                      2.127109   \n",
       "4                                      2.126364   \n",
       "\n",
       "   Standard deviation/Mean of ladder by country-year  \n",
       "0                                           0.425627  \n",
       "1                                           0.586701  \n",
       "2                                           0.391501  \n",
       "3                                           0.330953  \n",
       "4                                           0.491591  "
      ]
     },
     "execution_count": 10,
     "metadata": {},
     "output_type": "execute_result"
    }
   ],
   "source": [
    "data1.head()"
   ]
  },
  {
   "cell_type": "markdown",
   "metadata": {},
   "source": [
    "### Preprocessing the Data"
   ]
  },
  {
   "cell_type": "code",
   "execution_count": 11,
   "metadata": {
    "collapsed": true
   },
   "outputs": [],
   "source": [
    "data1=data1.drop('index',axis=1)\n",
    "data1=data1.drop(\"WP5 Country\",axis=1)\n",
    "data1=data1.drop([\"country\",\"year\"],axis=1)\n",
    "Y=data1[\"Life Ladder\"].values\n",
    "X=data1.drop([\"Life Ladder\",\"Democratic Quality\",\"Delivery Quality\"],axis=1).values\n",
    "(data1.head())\n",
    "# Here the data is being imputed and the missing values are being replaced with the mean of all the values\n",
    "data1\n",
    "imp=Imputer(missing_values=\"NaN\",strategy=\"mean\")\n",
    "X=imp.fit_transform(X)"
   ]
  },
  {
   "cell_type": "markdown",
   "metadata": {
    "collapsed": true
   },
   "source": [
    "### Split data into training and test set\n"
   ]
  },
  {
   "cell_type": "code",
   "execution_count": 12,
   "metadata": {
    "collapsed": true
   },
   "outputs": [],
   "source": [
    "xtrain,xtest,ytrain,ytest=train_test_split(X,Y)"
   ]
  },
  {
   "cell_type": "markdown",
   "metadata": {},
   "source": [
    "### Fit Linear Regression Model and Predict"
   ]
  },
  {
   "cell_type": "code",
   "execution_count": 13,
   "metadata": {},
   "outputs": [
    {
     "name": "stdout",
     "output_type": "stream",
     "text": [
      "Intercept:  1.906808774110139\n",
      "Coefficients :  [ 2.05274717e-01  1.01483401e+00  5.36633761e-03  1.76040865e-01\n",
      "  6.26174432e-01 -6.80429620e-01  1.41113695e+00  9.66886130e-01\n",
      " -3.90062533e-01  1.07817109e+00 -6.12650109e+00]\n"
     ]
    },
    {
     "ename": "ValueError",
     "evalue": "continuous is not supported",
     "output_type": "error",
     "traceback": [
      "\u001b[1;31m---------------------------------------------------------------------------\u001b[0m",
      "\u001b[1;31mValueError\u001b[0m                                Traceback (most recent call last)",
      "\u001b[1;32m<ipython-input-13-14ac6d80dba1>\u001b[0m in \u001b[0;36m<module>\u001b[1;34m()\u001b[0m\n\u001b[0;32m      4\u001b[0m \u001b[0mprint\u001b[0m\u001b[1;33m(\u001b[0m\u001b[1;34m\"Coefficients : \"\u001b[0m\u001b[1;33m,\u001b[0m\u001b[0malg\u001b[0m\u001b[1;33m.\u001b[0m\u001b[0mcoef_\u001b[0m\u001b[1;33m)\u001b[0m\u001b[1;33m\u001b[0m\u001b[0m\n\u001b[0;32m      5\u001b[0m \u001b[0mypred\u001b[0m\u001b[1;33m=\u001b[0m\u001b[0malg\u001b[0m\u001b[1;33m.\u001b[0m\u001b[0mpredict\u001b[0m\u001b[1;33m(\u001b[0m\u001b[0mxtest\u001b[0m\u001b[1;33m)\u001b[0m\u001b[1;33m\u001b[0m\u001b[0m\n\u001b[1;32m----> 6\u001b[1;33m \u001b[0mprint\u001b[0m\u001b[1;33m(\u001b[0m\u001b[1;34m'Accracy of prediction on training set is : '\u001b[0m\u001b[1;33m,\u001b[0m\u001b[0mAccuracyScore\u001b[0m\u001b[1;33m(\u001b[0m\u001b[0mytrain\u001b[0m\u001b[1;33m,\u001b[0m\u001b[0malg\u001b[0m\u001b[1;33m.\u001b[0m\u001b[0mpredict\u001b[0m\u001b[1;33m(\u001b[0m\u001b[0mxtrain\u001b[0m\u001b[1;33m)\u001b[0m\u001b[1;33m)\u001b[0m\u001b[1;33m)\u001b[0m\u001b[1;33m\u001b[0m\u001b[0m\n\u001b[0m\u001b[0;32m      7\u001b[0m \u001b[0mprint\u001b[0m\u001b[1;33m(\u001b[0m\u001b[1;34m'Accracy of prediction on test set is : '\u001b[0m\u001b[1;33m,\u001b[0m\u001b[0mAccuracyScore\u001b[0m\u001b[1;33m(\u001b[0m\u001b[0mytest\u001b[0m\u001b[1;33m,\u001b[0m\u001b[0mypred\u001b[0m\u001b[1;33m)\u001b[0m\u001b[1;33m)\u001b[0m\u001b[1;33m\u001b[0m\u001b[0m\n",
      "\u001b[1;32m~\\Anaconda3\\lib\\site-packages\\sklearn\\metrics\\classification.py\u001b[0m in \u001b[0;36maccuracy_score\u001b[1;34m(y_true, y_pred, normalize, sample_weight)\u001b[0m\n\u001b[0;32m    174\u001b[0m \u001b[1;33m\u001b[0m\u001b[0m\n\u001b[0;32m    175\u001b[0m     \u001b[1;31m# Compute accuracy for each possible representation\u001b[0m\u001b[1;33m\u001b[0m\u001b[1;33m\u001b[0m\u001b[0m\n\u001b[1;32m--> 176\u001b[1;33m     \u001b[0my_type\u001b[0m\u001b[1;33m,\u001b[0m \u001b[0my_true\u001b[0m\u001b[1;33m,\u001b[0m \u001b[0my_pred\u001b[0m \u001b[1;33m=\u001b[0m \u001b[0m_check_targets\u001b[0m\u001b[1;33m(\u001b[0m\u001b[0my_true\u001b[0m\u001b[1;33m,\u001b[0m \u001b[0my_pred\u001b[0m\u001b[1;33m)\u001b[0m\u001b[1;33m\u001b[0m\u001b[0m\n\u001b[0m\u001b[0;32m    177\u001b[0m     \u001b[1;32mif\u001b[0m \u001b[0my_type\u001b[0m\u001b[1;33m.\u001b[0m\u001b[0mstartswith\u001b[0m\u001b[1;33m(\u001b[0m\u001b[1;34m'multilabel'\u001b[0m\u001b[1;33m)\u001b[0m\u001b[1;33m:\u001b[0m\u001b[1;33m\u001b[0m\u001b[0m\n\u001b[0;32m    178\u001b[0m         \u001b[0mdiffering_labels\u001b[0m \u001b[1;33m=\u001b[0m \u001b[0mcount_nonzero\u001b[0m\u001b[1;33m(\u001b[0m\u001b[0my_true\u001b[0m \u001b[1;33m-\u001b[0m \u001b[0my_pred\u001b[0m\u001b[1;33m,\u001b[0m \u001b[0maxis\u001b[0m\u001b[1;33m=\u001b[0m\u001b[1;36m1\u001b[0m\u001b[1;33m)\u001b[0m\u001b[1;33m\u001b[0m\u001b[0m\n",
      "\u001b[1;32m~\\Anaconda3\\lib\\site-packages\\sklearn\\metrics\\classification.py\u001b[0m in \u001b[0;36m_check_targets\u001b[1;34m(y_true, y_pred)\u001b[0m\n\u001b[0;32m     86\u001b[0m     \u001b[1;31m# No metrics support \"multiclass-multioutput\" format\u001b[0m\u001b[1;33m\u001b[0m\u001b[1;33m\u001b[0m\u001b[0m\n\u001b[0;32m     87\u001b[0m     \u001b[1;32mif\u001b[0m \u001b[1;33m(\u001b[0m\u001b[0my_type\u001b[0m \u001b[1;32mnot\u001b[0m \u001b[1;32min\u001b[0m \u001b[1;33m[\u001b[0m\u001b[1;34m\"binary\"\u001b[0m\u001b[1;33m,\u001b[0m \u001b[1;34m\"multiclass\"\u001b[0m\u001b[1;33m,\u001b[0m \u001b[1;34m\"multilabel-indicator\"\u001b[0m\u001b[1;33m]\u001b[0m\u001b[1;33m)\u001b[0m\u001b[1;33m:\u001b[0m\u001b[1;33m\u001b[0m\u001b[0m\n\u001b[1;32m---> 88\u001b[1;33m         \u001b[1;32mraise\u001b[0m \u001b[0mValueError\u001b[0m\u001b[1;33m(\u001b[0m\u001b[1;34m\"{0} is not supported\"\u001b[0m\u001b[1;33m.\u001b[0m\u001b[0mformat\u001b[0m\u001b[1;33m(\u001b[0m\u001b[0my_type\u001b[0m\u001b[1;33m)\u001b[0m\u001b[1;33m)\u001b[0m\u001b[1;33m\u001b[0m\u001b[0m\n\u001b[0m\u001b[0;32m     89\u001b[0m \u001b[1;33m\u001b[0m\u001b[0m\n\u001b[0;32m     90\u001b[0m     \u001b[1;32mif\u001b[0m \u001b[0my_type\u001b[0m \u001b[1;32min\u001b[0m \u001b[1;33m[\u001b[0m\u001b[1;34m\"binary\"\u001b[0m\u001b[1;33m,\u001b[0m \u001b[1;34m\"multiclass\"\u001b[0m\u001b[1;33m]\u001b[0m\u001b[1;33m:\u001b[0m\u001b[1;33m\u001b[0m\u001b[0m\n",
      "\u001b[1;31mValueError\u001b[0m: continuous is not supported"
     ]
    }
   ],
   "source": [
    "alg=LR()\n",
    "alg.fit(xtrain,ytrain)\n",
    "print('Intercept: ',alg.intercept_)\n",
    "print(\"Coefficients : \",alg.coef_)\n",
    "ypred=alg.predict(xtest)\n",
    "# print('Accracy of prediction on training set is : ',AccuracyScore(ytrain,alg.predict(xtrain)))\n",
    "# print('Accracy of prediction on test set is : ',AccuracyScore(ytest,ypred))\n"
   ]
  },
  {
   "cell_type": "markdown",
   "metadata": {},
   "source": [
    "# Data Visualization and Inferences"
   ]
  },
  {
   "cell_type": "code",
   "execution_count": null,
   "metadata": {
    "collapsed": true
   },
   "outputs": [],
   "source": [
    "from sklearn.metrics import r2_score\n",
    "\n",
    "def PearsonR(x,y):\n",
    "    return(sp.stats.pearsonr(x,y))\n",
    "def AccuracyScore(ytrue,ypred):\n",
    "    return r2_score(ytrue,ypred)   \n",
    "\n",
    "#Formula used internally\n",
    "# xy=x*y\n",
    "# xsquare=x**2\n",
    "# ysquare=y**2\n",
    "# sumXY=xy.sum()\n",
    "# sumXSquare=xsquare.sum()\n",
    "# sumYSquare=ysquare.sum()\n",
    "# N=len(x)\n",
    "\n",
    "# import math\n",
    "# denominator=math.sqrt((N*sumXSquare-x.sum()*x.sum())*(N*sumYSquare-y.sum()*y.sum()))\n",
    "# numerator=(N*sumXY-(sumXSquare)*(sumYSquare))\n",
    "# r=numerator/denominator"
   ]
  },
  {
   "cell_type": "code",
   "execution_count": null,
   "metadata": {},
   "outputs": [],
   "source": [
    "plt.scatter(xtrain[:,0],ytrain,color=\"red\")\n",
    "plt.scatter(xtest[:,0],ypred,color=\"blue\")\n",
    "alg_pred=LR()\n",
    "alg_pred.fit(xtrain[:,0].reshape(-1,1),ytrain)\n",
    "plt.plot(xtrain[:,0],alg_pred.predict(xtrain[:,0].reshape(-1,1)),color=\"blue\")\n",
    "# plt.scatter(xtest[:,0],ytest,color=\"black\")\n",
    "plt.xlabel(\"GDP-Countries\")\n",
    "plt.ylabel(\"Happiness Index\")\n",
    "plt.title(\"Grpah of GDP vs Happiness Index\")\n",
    "plt.show()\n",
    "\n",
    "# Metrics for judging the result, calculating correlation\n",
    "x=xtest[:,0]\n",
    "y=alg_pred.predict(ytest.reshape(-1,1))\n",
    "print('Correlation between data is : ',PearsonR(x,y)[0])\n",
    "\n",
    "\n",
    "print(\"Note: blue dots :- Machine Learning predicted models using >>Multivariate Linear and Logistic Regression<<\")\n",
    "\n"
   ]
  },
  {
   "cell_type": "code",
   "execution_count": null,
   "metadata": {},
   "outputs": [],
   "source": [
    "plt.scatter(xtrain[:,1],ytrain,color=\"red\")\n",
    "plt.scatter(xtest[:,1],ypred,color=\"blue\")\n",
    "alg_pred=LR()\n",
    "alg_pred.fit(xtrain[:,1].reshape(-1,1),ytrain)\n",
    "plt.plot(xtrain[:,1],alg_pred.predict(xtrain[:,1].reshape(-1,1)),color=\"blue\")\n",
    "plt.xlabel(\"Social Support(Country, Democracy)\")\n",
    "plt.ylabel(\"Happiness Index\")\n",
    "plt.title(\"Graph of Social Support(Retirement, Democracy or Good Leadership) vs Happiness\")\n",
    "\n",
    "plt.show()\n",
    "x=xtest[:,1]\n",
    "y=alg_pred.predict(ytest.reshape(-1,1))\n",
    "print('Correlation between data is : ',PearsonR(x,y)[0])\n",
    "\n",
    "print(\"Note: blue dots :- Machine Learning predicted models using >>Multivariate Linear and Logistic Regression<<\")\n",
    "\n",
    "# plt.scatter(xtrain[:,1],ytrain,color=\"red\")\n",
    "# plt.scatter(xtest[:,1],ypred,color=\"blue\")\n",
    "# alg_pred=LR()\n",
    "# alg_pred.fit(xtrain[:,1].reshape(-1,1),ytrain)\n",
    "# plt.plot(xtrain[:,1],alg_pred.predict(xtrain[:,1].reshape(-1,1)),color=\"blue\")\n",
    "# plt.show()\n",
    "\n"
   ]
  },
  {
   "cell_type": "code",
   "execution_count": null,
   "metadata": {},
   "outputs": [],
   "source": [
    "plt.scatter(xtrain[:,2],ytrain,color=\"red\")\n",
    "plt.scatter(xtest[:,2],ypred,color=\"blue\")\n",
    "alg_pred=LR()\n",
    "alg_pred.fit(xtrain[:,2].reshape(-1,1),ytrain)\n",
    "plt.plot(xtrain[:,2],alg_pred.predict(xtrain[:,2].reshape(-1,1)),color=\"blue\")\n",
    "plt.xlabel(\"Life Expectancy\")\n",
    "plt.ylabel(\"Happiness Index\")\n",
    "plt.title(\"Graph of Life Expectancy vs Happiness\")\n",
    "plt.show()\n",
    "x=xtest[:,2]\n",
    "y=alg_pred.predict(ytest.reshape(-1,1))\n",
    "print('Correlation between data is : ',PearsonR(x,y)[0])\n",
    "print(\"Note: blue dots :- Machine Learning predicted models using >>Multivariate Linear and Logistic Regression<<\")\n"
   ]
  },
  {
   "cell_type": "code",
   "execution_count": null,
   "metadata": {},
   "outputs": [],
   "source": [
    "plt.scatter(xtrain[:,3],ytrain,color=\"red\")\n",
    "plt.scatter(xtest[:,3],ypred,color=\"blue\")\n",
    "alg_pred=LR()\n",
    "alg_pred.fit(xtrain[:,3].reshape(-1,1),ytrain)\n",
    "plt.plot(xtrain[:,3],alg_pred.predict(xtrain[:,3].reshape(-1,1)),color=\"blue\")\n",
    "plt.xlabel(\"Government Policies towards freedom\")\n",
    "plt.ylabel(\"Happiness Index\")\n",
    "plt.title(\"Graph of Government Freedom Policy(Eg. China 1 child policy etc.) vs Happiness\")\n",
    "plt.show()\n",
    "x=xtest[:,3]\n",
    "y=alg_pred.predict(ytest.reshape(-1,1))\n",
    "print('Correlation between data is : ',PearsonR(x,y)[0])\n",
    "# print(\"Conclusion: Happy people may or maynot be donating :(- World bank\")\n",
    "print(\"Note: blue dots :- Machine Learning predicted models using >>Multivariate Linear and Logistic Regression<<\")\n"
   ]
  },
  {
   "cell_type": "code",
   "execution_count": null,
   "metadata": {},
   "outputs": [],
   "source": [
    "plt.scatter(xtrain[:,4],ytrain,color=\"red\")\n",
    "plt.scatter(xtest[:,4],ypred,color=\"blue\")\n",
    "# plt.scatter(xtest[:,0],ytest,color=\"black\")\n",
    "alg_pred=LR()\n",
    "alg_pred.fit(xtrain[:,4].reshape(-1,1),ytrain)\n",
    "plt.plot(xtrain[:,4],alg_pred.predict(xtrain[:,4].reshape(-1,1)),color=\"blue\") \n",
    "plt.xlabel(\"Generousity\")\n",
    "plt.ylabel(\"Happiness Index\")\n",
    "plt.title(\"Graph of Generousity vs Happiness\")\n",
    "plt.show()\n",
    "x=xtest[:,4]\n",
    "y=alg_pred.predict(ytest.reshape(-1,1))\n",
    "print('Correlation between data is : ',PearsonR(x,y)[0])\n",
    "print(\"Conclusion: Happy people may or maynot be donating :(- World bank\")\n",
    "print(\"Note: blue dots :- Machine Learning predicted models using >>Multivariate Linear and Logistic Regression<<\")\n"
   ]
  },
  {
   "cell_type": "code",
   "execution_count": null,
   "metadata": {},
   "outputs": [],
   "source": [
    "data1.head(1)"
   ]
  },
  {
   "cell_type": "code",
   "execution_count": null,
   "metadata": {},
   "outputs": [],
   "source": [
    "plt.scatter(xtrain[:,5],ytrain,color=\"red\")\n",
    "plt.scatter(xtest[:,5],ypred,color=\"blue\")\n",
    "alg_pred=LR()\n",
    "alg_pred.fit(xtrain[:,5].reshape(-1,1),ytrain)\n",
    "plt.plot(xtrain[:,5],alg_pred.predict(xtrain[:,5].reshape(-1,1)),color=\"blue\")\n",
    "plt.xlabel(\"Perception Towards Corruption\")\n",
    "plt.ylabel(\"Happiness Index\")\n",
    "plt.title(\"Graph of Perception Towards Corruption vs Happiness\")\n",
    "plt.show()\n",
    "print(\"Conclusion: Negative Correlation, higher the corruption, then lower the happiness gets\")\n",
    "print(\"Conclusion: Countries where corruption is low,People are very happy but at corrupt places the distinction is lost, though correlation is clearly negative\")\n",
    "print(\"Note: blue dots :- Machine Learning predicted models using >>Multivariate Linear and Logistic Regression<<\")\n"
   ]
  },
  {
   "cell_type": "code",
   "execution_count": null,
   "metadata": {},
   "outputs": [],
   "source": [
    "plt.scatter(xtrain[:,6],ytrain,color=\"red\")\n",
    "plt.scatter(xtest[:,6],ypred,color=\"blue\")\n",
    "alg_pred=LR()\n",
    "alg_pred.fit(xtrain[:,6].reshape(-1,1),ytrain)\n",
    "plt.plot(xtrain[:,6],alg_pred.predict(xtrain[:,6].reshape(-1,1)),color=\"blue\")\n",
    "plt.xlabel(\"Positivity\")\n",
    "plt.ylabel(\"Happiness Index\")\n",
    "plt.title(\"Graph of Positivity vs Happiness\")\n",
    "plt.show()\n",
    "\n",
    "print(\"Note: blue dots :- Machine Learning predicted models using >>Multivariate Linear and Logistic Regression<<\")\n"
   ]
  },
  {
   "cell_type": "code",
   "execution_count": null,
   "metadata": {},
   "outputs": [],
   "source": [
    "plt.scatter(xtrain[:,7],ytrain,color=\"red\")\n",
    "plt.scatter(xtest[:,7],ypred,color=\"blue\")\n",
    "alg_pred=LR()\n",
    "alg_pred.fit(xtrain[:,7].reshape(-1,1),ytrain)\n",
    "plt.plot(xtrain[:,7],alg_pred.predict(xtrain[:,7].reshape(-1,1)),color=\"blue\")\n",
    "plt.xlabel(\"Negativity\")\n",
    "plt.ylabel(\"Happiness Index\")\n",
    "plt.show()\n",
    "print(\"Note: blue dots :- Machine Learning predicted models using >>Multivariate Linear and Logistic Regression<<\")\n"
   ]
  }
 ],
 "metadata": {
  "kernelspec": {
   "display_name": "Python 3",
   "language": "python",
   "name": "python3"
  },
  "language_info": {
   "codemirror_mode": {
    "name": "ipython",
    "version": 3
   },
   "file_extension": ".py",
   "mimetype": "text/x-python",
   "name": "python",
   "nbconvert_exporter": "python",
   "pygments_lexer": "ipython3",
   "version": "3.6.3"
  }
 },
 "nbformat": 4,
 "nbformat_minor": 2
}
