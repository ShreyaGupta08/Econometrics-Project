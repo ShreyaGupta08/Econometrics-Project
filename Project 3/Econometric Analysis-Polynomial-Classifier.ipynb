{
 "cells": [
  {
   "cell_type": "markdown",
   "metadata": {},
   "source": [
    "# About the Dataset\n",
    "\n",
    "### World Happiness Report Data for 2017 from their website:\n",
    "\n",
    "The first World Happiness Report was published in April, 2012, in support of the UN High Level Meeting on happiness and well-being. Since then the world has come a long way. Increasingly, happiness is considered to be the proper measure of social progress and the goal of public policy. In June 2016 the OECD committed itself “to redefine the growth narrative to put people’s well-being at the center of governments’ efforts”. In February 2017, the United Arab Emirates held a full-day World Happiness meeting, as part of the World Government Summit. Now on World Happiness Day, March 20th, we launch the World Happiness Report 2017, once again back at the United Nations, again published by the Sustainable Development Solutions Network, and now supported by a generous three-year grant from the Ernesto Illy Foundation. Some highlights are as follows.\n",
    "\n",
    "Source: Helliwell, J., Layard, R., & Sachs, J. (2017). World Happiness Report 2017, New York: Sustainable Development Solutions Network.\n",
    "\n",
    "##### Dictionary:\n",
    "\n",
    "![Dictionary](img/DictionaryData.png)\n",
    "\n",
    "##### Labeled Visualized Happiness Data Comparison of various countries on varous factors:\n",
    "\n",
    "![data1-image](img/Data1_Happiness.png)\n",
    "\n",
    "\n",
    "![data2-image](img/Data2_Happiness.png)\n",
    "\n",
    "\n",
    "![data3-image](img/Data3_Happiness.png)\n",
    "\n",
    "\n",
    "\n"
   ]
  },
  {
   "cell_type": "markdown",
   "metadata": {},
   "source": [
    "### Review of Regression and Correlation [ To be Completed ]\n",
    "\n",
    "What is Linear Regression?\n",
    "\n",
    "Why use Linear Regression?\n",
    "\n",
    "What is Correlation?\n",
    "\n",
    "Explain Regression with formulas\n",
    "    Cost function\n",
    "    Gradient descent step\n",
    "    Optimal Coefficients\n",
    "    Predicting the value\n",
    "    Accuracy Score\n",
    "    Plotting\n",
    "\n",
    "Explain Correlation with formula and graphs\n",
    "\n",
    "    Correlation Formula\n",
    "    Correlation Coeff\n",
    "    Correlation Values and meaning of a positive or negative correlation\n",
    "    Calculates a Pearson correlation coefficient and the p-value for testing non-correlation.\n",
    "\n",
    "The Pearson correlation coefficient measures the linear relationship between two datasets. Strictly speaking, Pearson’s correlation requires that each dataset be normally distributed. Like other correlation coefficients, this one varies between -1 and +1 with 0 implying no correlation. Correlations of -1 or +1 imply an exact linear relationship. Positive correlations imply that as x increases, so does y. Negative correlations imply that as x increases, y decreases.\n",
    "\n",
    "The p-value roughly indicates the probability of an uncorrelated system producing datasets that have a Pearson correlation at least as extreme as the one computed from these datasets. The p-values are not entirely reliable but are probably reasonable for datasets larger than 500 or so.\n",
    "\n"
   ]
  },
  {
   "cell_type": "markdown",
   "metadata": {},
   "source": [
    "# Explaination of the Code\n",
    "\n",
    "\n",
    "\n",
    "\n"
   ]
  },
  {
   "cell_type": "markdown",
   "metadata": {},
   "source": [
    "### Import important libraries "
   ]
  },
  {
   "cell_type": "code",
   "execution_count": 1,
   "metadata": {
    "collapsed": true
   },
   "outputs": [],
   "source": [
    "import pandas as pd\n",
    "import numpy as np\n",
    "from sklearn.preprocessing import Imputer\n",
    "from sklearn.model_selection import train_test_split\n",
    "from sklearn.linear_model import LinearRegression as LR\n",
    "from sklearn.preprocessing import LabelEncoder\n",
    "from sklearn.preprocessing import OneHotEncoder\n",
    "import matplotlib.pyplot as plt\n",
    "import scipy as sp"
   ]
  },
  {
   "cell_type": "markdown",
   "metadata": {},
   "source": [
    "### Read the dataset"
   ]
  },
  {
   "cell_type": "code",
   "execution_count": 2,
   "metadata": {
    "collapsed": true
   },
   "outputs": [],
   "source": [
    "# data=pd.read_excel(\"World Happiness Data.xlsx\")\n",
    "data=pd.read_csv(\"World Happiness Data.csv\")\n",
    "data1=data[data.year==2016]\n",
    "data1=data1.reset_index()"
   ]
  },
  {
   "cell_type": "code",
   "execution_count": 3,
   "metadata": {},
   "outputs": [
    {
     "data": {
      "text/html": [
       "<div>\n",
       "<style>\n",
       "    .dataframe thead tr:only-child th {\n",
       "        text-align: right;\n",
       "    }\n",
       "\n",
       "    .dataframe thead th {\n",
       "        text-align: left;\n",
       "    }\n",
       "\n",
       "    .dataframe tbody tr th {\n",
       "        vertical-align: top;\n",
       "    }\n",
       "</style>\n",
       "<table border=\"1\" class=\"dataframe\">\n",
       "  <thead>\n",
       "    <tr style=\"text-align: right;\">\n",
       "      <th></th>\n",
       "      <th>index</th>\n",
       "      <th>WP5 Country</th>\n",
       "      <th>country</th>\n",
       "      <th>year</th>\n",
       "      <th>Life Ladder</th>\n",
       "      <th>Log GDP per capita</th>\n",
       "      <th>Social support</th>\n",
       "      <th>Healthy life expectancy at birth</th>\n",
       "      <th>Freedom to make life choices</th>\n",
       "      <th>Generosity</th>\n",
       "      <th>Perceptions of corruption</th>\n",
       "      <th>Positive affect</th>\n",
       "      <th>Negative affect</th>\n",
       "      <th>Confidence in national government</th>\n",
       "      <th>Democratic Quality</th>\n",
       "      <th>Delivery Quality</th>\n",
       "      <th>Standard deviation of ladder by country-year</th>\n",
       "      <th>Standard deviation/Mean of ladder by country-year</th>\n",
       "    </tr>\n",
       "  </thead>\n",
       "  <tbody>\n",
       "    <tr>\n",
       "      <th>0</th>\n",
       "      <td>8</td>\n",
       "      <td>Afghanistan</td>\n",
       "      <td>Afghanistan</td>\n",
       "      <td>2016</td>\n",
       "      <td>4.220169</td>\n",
       "      <td>7.497288</td>\n",
       "      <td>0.559072</td>\n",
       "      <td>49.871265</td>\n",
       "      <td>0.522566</td>\n",
       "      <td>0.057393</td>\n",
       "      <td>0.793246</td>\n",
       "      <td>0.564953</td>\n",
       "      <td>0.348332</td>\n",
       "      <td>0.324990</td>\n",
       "      <td>NaN</td>\n",
       "      <td>NaN</td>\n",
       "      <td>1.796219</td>\n",
       "      <td>0.425627</td>\n",
       "    </tr>\n",
       "    <tr>\n",
       "      <th>1</th>\n",
       "      <td>17</td>\n",
       "      <td>Albania</td>\n",
       "      <td>Albania</td>\n",
       "      <td>2016</td>\n",
       "      <td>4.511101</td>\n",
       "      <td>9.282300</td>\n",
       "      <td>0.638411</td>\n",
       "      <td>68.698380</td>\n",
       "      <td>0.729819</td>\n",
       "      <td>-0.017927</td>\n",
       "      <td>0.901071</td>\n",
       "      <td>0.675244</td>\n",
       "      <td>0.321706</td>\n",
       "      <td>0.400910</td>\n",
       "      <td>NaN</td>\n",
       "      <td>NaN</td>\n",
       "      <td>2.646668</td>\n",
       "      <td>0.586701</td>\n",
       "    </tr>\n",
       "    <tr>\n",
       "      <th>2</th>\n",
       "      <td>22</td>\n",
       "      <td>Algeria</td>\n",
       "      <td>Algeria</td>\n",
       "      <td>2016</td>\n",
       "      <td>5.388171</td>\n",
       "      <td>9.549138</td>\n",
       "      <td>0.748150</td>\n",
       "      <td>64.829948</td>\n",
       "      <td>NaN</td>\n",
       "      <td>NaN</td>\n",
       "      <td>NaN</td>\n",
       "      <td>0.668838</td>\n",
       "      <td>0.371372</td>\n",
       "      <td>NaN</td>\n",
       "      <td>NaN</td>\n",
       "      <td>NaN</td>\n",
       "      <td>2.109472</td>\n",
       "      <td>0.391501</td>\n",
       "    </tr>\n",
       "    <tr>\n",
       "      <th>3</th>\n",
       "      <td>37</td>\n",
       "      <td>Argentina</td>\n",
       "      <td>Argentina</td>\n",
       "      <td>2016</td>\n",
       "      <td>6.427221</td>\n",
       "      <td>NaN</td>\n",
       "      <td>0.882819</td>\n",
       "      <td>67.443993</td>\n",
       "      <td>0.847702</td>\n",
       "      <td>NaN</td>\n",
       "      <td>0.850924</td>\n",
       "      <td>0.841907</td>\n",
       "      <td>0.311646</td>\n",
       "      <td>0.419562</td>\n",
       "      <td>NaN</td>\n",
       "      <td>NaN</td>\n",
       "      <td>2.127109</td>\n",
       "      <td>0.330953</td>\n",
       "    </tr>\n",
       "    <tr>\n",
       "      <th>4</th>\n",
       "      <td>48</td>\n",
       "      <td>Armenia</td>\n",
       "      <td>Armenia</td>\n",
       "      <td>2016</td>\n",
       "      <td>4.325472</td>\n",
       "      <td>8.989569</td>\n",
       "      <td>0.709218</td>\n",
       "      <td>65.409470</td>\n",
       "      <td>0.610987</td>\n",
       "      <td>-0.155814</td>\n",
       "      <td>0.921421</td>\n",
       "      <td>0.593600</td>\n",
       "      <td>0.437228</td>\n",
       "      <td>0.184713</td>\n",
       "      <td>NaN</td>\n",
       "      <td>NaN</td>\n",
       "      <td>2.126364</td>\n",
       "      <td>0.491591</td>\n",
       "    </tr>\n",
       "  </tbody>\n",
       "</table>\n",
       "</div>"
      ],
      "text/plain": [
       "   index  WP5 Country      country  year  Life Ladder  Log GDP per capita  \\\n",
       "0      8  Afghanistan  Afghanistan  2016     4.220169            7.497288   \n",
       "1     17      Albania      Albania  2016     4.511101            9.282300   \n",
       "2     22      Algeria      Algeria  2016     5.388171            9.549138   \n",
       "3     37    Argentina    Argentina  2016     6.427221                 NaN   \n",
       "4     48      Armenia      Armenia  2016     4.325472            8.989569   \n",
       "\n",
       "   Social support  Healthy life expectancy at birth  \\\n",
       "0        0.559072                         49.871265   \n",
       "1        0.638411                         68.698380   \n",
       "2        0.748150                         64.829948   \n",
       "3        0.882819                         67.443993   \n",
       "4        0.709218                         65.409470   \n",
       "\n",
       "   Freedom to make life choices  Generosity  Perceptions of corruption  \\\n",
       "0                      0.522566    0.057393                   0.793246   \n",
       "1                      0.729819   -0.017927                   0.901071   \n",
       "2                           NaN         NaN                        NaN   \n",
       "3                      0.847702         NaN                   0.850924   \n",
       "4                      0.610987   -0.155814                   0.921421   \n",
       "\n",
       "   Positive affect  Negative affect  Confidence in national government  \\\n",
       "0         0.564953         0.348332                           0.324990   \n",
       "1         0.675244         0.321706                           0.400910   \n",
       "2         0.668838         0.371372                                NaN   \n",
       "3         0.841907         0.311646                           0.419562   \n",
       "4         0.593600         0.437228                           0.184713   \n",
       "\n",
       "   Democratic Quality  Delivery Quality  \\\n",
       "0                 NaN               NaN   \n",
       "1                 NaN               NaN   \n",
       "2                 NaN               NaN   \n",
       "3                 NaN               NaN   \n",
       "4                 NaN               NaN   \n",
       "\n",
       "   Standard deviation of ladder by country-year  \\\n",
       "0                                      1.796219   \n",
       "1                                      2.646668   \n",
       "2                                      2.109472   \n",
       "3                                      2.127109   \n",
       "4                                      2.126364   \n",
       "\n",
       "   Standard deviation/Mean of ladder by country-year  \n",
       "0                                           0.425627  \n",
       "1                                           0.586701  \n",
       "2                                           0.391501  \n",
       "3                                           0.330953  \n",
       "4                                           0.491591  "
      ]
     },
     "execution_count": 3,
     "metadata": {},
     "output_type": "execute_result"
    }
   ],
   "source": [
    "data1.head()"
   ]
  },
  {
   "cell_type": "markdown",
   "metadata": {},
   "source": [
    "# Preprocessing the Data"
   ]
  },
  {
   "cell_type": "code",
   "execution_count": 4,
   "metadata": {
    "collapsed": true
   },
   "outputs": [],
   "source": [
    "data1=data1.drop('index',axis=1)\n",
    "data1=data1.drop(\"WP5 Country\",axis=1)\n",
    "data1=data1.drop([\"country\",\"year\"],axis=1)\n",
    "Y=data1[\"Life Ladder\"].values\n",
    "X=data1.drop([\"Life Ladder\",\"Democratic Quality\",\"Delivery Quality\"],axis=1).values\n",
    "(data1.head())\n",
    "# Here the data is being imputed and the missing values are being replaced with the mean of all the values\n",
    "data1\n",
    "imp=Imputer(missing_values=\"NaN\",strategy=\"mean\")\n",
    "X=imp.fit_transform(X)"
   ]
  },
  {
   "cell_type": "code",
   "execution_count": 5,
   "metadata": {},
   "outputs": [],
   "source": [
    "# Converting features to degree 2\n",
    "from sklearn.preprocessing import PolynomialFeatures\n",
    "pol_reg=PolynomialFeatures(degree=2)\n",
    "?PolynomialFeatures\n",
    "X=pol_reg.fit_transform(X)\n",
    "# print(X.shape)"
   ]
  },
  {
   "cell_type": "markdown",
   "metadata": {
    "collapsed": true
   },
   "source": [
    "### Split data into training and test set\n"
   ]
  },
  {
   "cell_type": "code",
   "execution_count": 18,
   "metadata": {
    "collapsed": true
   },
   "outputs": [],
   "source": [
    "xtrain,xtest,ytrain,ytest=train_test_split(X,Y)"
   ]
  },
  {
   "cell_type": "markdown",
   "metadata": {},
   "source": [
    "### Normalizing the data due to entry of square terms"
   ]
  },
  {
   "cell_type": "code",
   "execution_count": 19,
   "metadata": {
    "collapsed": true
   },
   "outputs": [],
   "source": [
    "# Normalize the data using sklearn\n",
    "from sklearn.preprocessing import StandardScaler as SC\n",
    "sc_X=SC()\n",
    "xtrain=sc_X.fit_transform(xtrain)\n",
    "xtest=sc_X.transform(xtest)"
   ]
  },
  {
   "cell_type": "markdown",
   "metadata": {},
   "source": [
    "### Fit Non Linear Regression Model and Predict"
   ]
  },
  {
   "cell_type": "code",
   "execution_count": 20,
   "metadata": {},
   "outputs": [
    {
     "name": "stdout",
     "output_type": "stream",
     "text": [
      "Intercept:  5.423178883914261\n",
      "Coefficients :  [-8.77422899e+12 -4.77725332e+00  3.83044240e+00  3.07855191e+00\n",
      " -1.07558159e+00  1.80560964e+00 -1.97981040e+00  1.60915759e+00\n",
      "  3.66221688e+00  9.43943807e-01  1.02534442e+00 -9.84666706e-01\n",
      "  4.83547826e-01  2.18424544e-01  1.32087588e+00  7.31686820e+00\n",
      " -2.59363961e+00  1.82749886e+00  8.10070613e-03 -3.48842044e-02\n",
      " -1.61059642e-01 -2.69441213e+00  1.68577347e+00 -1.59914741e+00\n",
      " -1.18956061e+00 -2.75709035e+00  8.43882554e-02  2.08354211e+00\n",
      " -5.90781355e-01 -1.79934653e+00 -1.28577111e+00  1.95168627e+00\n",
      " -1.47091400e+00 -3.39084972e-01 -3.16614492e+00  1.41677051e+00\n",
      "  3.37291346e-01 -3.50108087e+00 -3.12990951e-01  7.27649131e-01\n",
      "  3.65230690e+00 -4.14468333e+00  1.11092656e+00 -7.13707169e-01\n",
      " -4.58947564e-01 -1.47044735e-02  2.35265617e-01 -7.59200441e-01\n",
      " -4.41816075e+00  4.16605393e+00  9.23860714e-02  6.20573515e-01\n",
      " -4.83714929e-01 -2.43429668e-01  2.80342191e-01  2.54599900e-01\n",
      " -6.12036546e-01 -4.85538641e-01 -1.21201689e+00  1.89270829e-01\n",
      "  2.93812566e-01 -3.04524054e+00  3.60039619e+00  1.33773217e+00\n",
      " -6.20942080e-01  1.73775191e+00  2.10310572e+00 -2.65135571e+00\n",
      " -6.55411902e-01 -1.36452151e-01  1.36498081e+00 -2.16544393e+00\n",
      " -3.79878123e-01  2.08097405e-01 -1.86904233e+00 -1.49212541e-02\n",
      "  3.35859116e-01  1.93849899e+00]\n",
      "Accuracy of prediction on training set is :  0.8999244383197496\n",
      "Accuracy of prediction on test set is :  0.2332735960430098\n"
     ]
    }
   ],
   "source": [
    "from sklearn.metrics import r2_score\n",
    "from sklearn.linear_model import LinearRegression as LR\n",
    "\n",
    "def PearsonR(x,y):\n",
    "    return(sp.stats.pearsonr(x,y))\n",
    "def AccuracyScore(ytrue,ypred):\n",
    "    return r2_score(ytrue,ypred)  \n",
    "def AccuracyScore(ytrue,ypred):\n",
    "    return r2_score(ytrue,ypred) \n",
    "alg=LR()\n",
    "alg.fit(xtrain,ytrain)\n",
    "print('Intercept: ',alg.intercept_)\n",
    "print(\"Coefficients : \",alg.coef_)\n",
    "ypred=alg.predict(xtest)\n",
    "print('Accuracy of prediction on training set is : ',AccuracyScore(ytrain,alg.predict(xtrain)))\n",
    "print('Accuracy of prediction on test set is : ',AccuracyScore(ytest,ypred))\n"
   ]
  },
  {
   "cell_type": "markdown",
   "metadata": {},
   "source": [
    "## The above 2 degree classifier is clearly overfitting the data"
   ]
  },
  {
   "cell_type": "markdown",
   "metadata": {},
   "source": [
    "# Data Visualization and Inferences"
   ]
  },
  {
   "cell_type": "code",
   "execution_count": 8,
   "metadata": {
    "collapsed": true
   },
   "outputs": [],
   "source": [
    "#Formula used internally\n",
    "# xy=x*y\n",
    "# xsquare=x**2\n",
    "# ysquare=y**2\n",
    "# sumXY=xy.sum()\n",
    "# sumXSquare=xsquare.sum()\n",
    "# sumYSquare=ysquare.sum()\n",
    "# N=len(x)\n",
    "\n",
    "# import math\n",
    "# denominator=math.sqrt((N*sumXSquare-x.sum()*x.sum())*(N*sumYSquare-y.sum()*y.sum()))\n",
    "# numerator=(N*sumXY-(sumXSquare)*(sumYSquare))\n",
    "# r=numerator/denominator"
   ]
  },
  {
   "cell_type": "code",
   "execution_count": 9,
   "metadata": {},
   "outputs": [
    {
     "data": {
      "image/png": "[encoded data removed]",
      "text/plain": [
       "<matplotlib.figure.Figure at 0x1ee8e592390>"
      ]
     },
     "metadata": {},
     "output_type": "display_data"
    },
    {
     "name": "stdout",
     "output_type": "stream",
     "text": [
      "Correlation between data is :  nan\n"
     ]
    },
    {
     "name": "stderr",
     "output_type": "stream",
     "text": [
      "C:\\Users\\80LM0141IH\\Anaconda3\\lib\\site-packages\\scipy\\stats\\stats.py:3021: RuntimeWarning: invalid value encountered in double_scalars\n",
      "  r = r_num / r_den\n",
      "C:\\Users\\80LM0141IH\\Anaconda3\\lib\\site-packages\\scipy\\stats\\stats.py:5277: RuntimeWarning: invalid value encountered in less\n",
      "  x = np.where(x < 1.0, x, 1.0)  # if x > 1 then return 1.0\n"
     ]
    }
   ],
   "source": [
    "plt.scatter(xtrain[:,0],ytrain,color=\"red\", label=\"training data\")\n",
    "plt.scatter(xtest[:,0],ypred,color=\"blue\" ,label=\"predicted data\")\n",
    "alg_pred=LR()\n",
    "alg_pred.fit(xtrain[:,0].reshape(-1,1),ytrain)\n",
    "plt.plot(xtrain[:,0],alg_pred.predict(xtrain[:,0].reshape(-1,1)),color=\"blue\")\n",
    "# plt.scatter(xtest[:,0],ytest,color=\"black\")\n",
    "plt.xlabel(\"GDP-Countries\")\n",
    "plt.ylabel(\"Happiness Index\")\n",
    "plt.title(\"Grpah of GDP vs Happiness Index\")\n",
    "plt.legend(loc='upper left')\n",
    "plt.show()\n",
    "\n",
    "# Metrics for judging the result, calculating correlation\n",
    "x=xtest[:,0]\n",
    "y=alg_pred.predict(ytest.reshape(-1,1))\n",
    "print('Correlation between data is : ',PearsonR(x,y)[0])\n"
   ]
  },
  {
   "cell_type": "code",
   "execution_count": 10,
   "metadata": {},
   "outputs": [
    {
     "data": {
      "image/png": "[encoded data removed]",
      "text/plain": [
       "<matplotlib.figure.Figure at 0x1ee8e592128>"
      ]
     },
     "metadata": {},
     "output_type": "display_data"
    },
    {
     "name": "stdout",
     "output_type": "stream",
     "text": [
      "Correlation between data is :  0.7419032921929847\n"
     ]
    }
   ],
   "source": [
    "plt.scatter(xtrain[:,1],ytrain,color=\"red\", label=\"training data\")\n",
    "plt.scatter(xtest[:,1],ypred,color=\"blue\", label=\"predicted data\")\n",
    "alg_pred=LR()\n",
    "alg_pred.fit(xtrain[:,1].reshape(-1,1),ytrain)\n",
    "plt.plot(xtrain[:,1],alg_pred.predict(xtrain[:,1].reshape(-1,1)),color=\"blue\")\n",
    "plt.xlabel(\"Social Support(Country, Democracy)\")\n",
    "plt.ylabel(\"Happiness Index\")\n",
    "plt.title(\"Graph of Social Support(Retirement, Democracy or Good Leadership) vs Happiness\")\n",
    "plt.legend(loc='upper left')\n",
    "\n",
    "plt.show()\n",
    "x=xtest[:,1]\n",
    "y=alg_pred.predict(ytest.reshape(-1,1))\n",
    "print('Correlation between data is : ',PearsonR(x,y)[0])\n",
    "\n"
   ]
  },
  {
   "cell_type": "code",
   "execution_count": 11,
   "metadata": {},
   "outputs": [
    {
     "data": {
      "image/png": "[encoded data removed]",
      "text/plain": [
       "<matplotlib.figure.Figure at 0x1ee84a4f5f8>"
      ]
     },
     "metadata": {},
     "output_type": "display_data"
    },
    {
     "name": "stdout",
     "output_type": "stream",
     "text": [
      "Correlation between data is :  0.782761622087573\n"
     ]
    }
   ],
   "source": [
    "plt.scatter(xtrain[:,2],ytrain,color=\"red\", label=\"training data\")\n",
    "plt.scatter(xtest[:,2],ypred,color=\"blue\", label=\"predicted data\")\n",
    "alg_pred=LR()\n",
    "alg_pred.fit(xtrain[:,2].reshape(-1,1),ytrain)\n",
    "plt.plot(xtrain[:,2],alg_pred.predict(xtrain[:,2].reshape(-1,1)),color=\"blue\")\n",
    "plt.xlabel(\"Life Expectancy\")\n",
    "plt.ylabel(\"Happiness Index\")\n",
    "plt.title(\"Graph of Life Expectancy vs Happiness\")\n",
    "plt.legend(loc='upper left')\n",
    "\n",
    "plt.show()\n",
    "x=xtest[:,2]\n",
    "y=alg_pred.predict(ytest.reshape(-1,1))\n",
    "print('Correlation between data is : ',PearsonR(x,y)[0])\n"
   ]
  },
  {
   "cell_type": "code",
   "execution_count": 12,
   "metadata": {},
   "outputs": [
    {
     "data": {
      "image/png": "[encoded data removed]",
      "text/plain": [
       "<matplotlib.figure.Figure at 0x1ee90a970b8>"
      ]
     },
     "metadata": {},
     "output_type": "display_data"
    },
    {
     "name": "stdout",
     "output_type": "stream",
     "text": [
      "Correlation between data is :  0.8340373683900024\n"
     ]
    }
   ],
   "source": [
    "plt.scatter(xtrain[:,3],ytrain,color=\"red\", label=\"training data\")\n",
    "plt.scatter(xtest[:,3],ypred,color=\"blue\", label=\"predicted data\")\n",
    "alg_pred=LR()\n",
    "alg_pred.fit(xtrain[:,3].reshape(-1,1),ytrain)\n",
    "plt.plot(xtrain[:,3],alg_pred.predict(xtrain[:,3].reshape(-1,1)),color=\"blue\")\n",
    "plt.xlabel(\"Government Policies towards freedom\")\n",
    "plt.ylabel(\"Happiness Index\")\n",
    "plt.title(\"Graph of Government Freedom Policy(Eg. China 1 child policy etc.) vs Happiness\")\n",
    "plt.legend(loc='upper left')\n",
    "\n",
    "plt.show()\n",
    "x=xtest[:,3]\n",
    "y=alg_pred.predict(ytest.reshape(-1,1))\n",
    "print('Correlation between data is : ',PearsonR(x,y)[0])\n",
    "# print(\"Conclusion: Happy people may or maynot be donating :(- World bank\")\n"
   ]
  },
  {
   "cell_type": "code",
   "execution_count": 13,
   "metadata": {},
   "outputs": [
    {
     "data": {
      "image/png": "[encoded data removed]",
      "text/plain": [
       "<matplotlib.figure.Figure at 0x1ee90d4a9b0>"
      ]
     },
     "metadata": {},
     "output_type": "display_data"
    },
    {
     "name": "stdout",
     "output_type": "stream",
     "text": [
      "Correlation between data is :  0.6784119951350494\n",
      "Conclusion: Happy people may or maynot be donating :(- World bank\n"
     ]
    }
   ],
   "source": [
    "plt.scatter(xtrain[:,4],ytrain,color=\"red\", label=\"training data\")\n",
    "plt.scatter(xtest[:,4],ypred,color=\"blue\", label=\"predicted data\")\n",
    "# plt.scatter(xtest[:,0],ytest,color=\"black\")\n",
    "alg_pred=LR()\n",
    "alg_pred.fit(xtrain[:,4].reshape(-1,1),ytrain)\n",
    "plt.plot(xtrain[:,4],alg_pred.predict(xtrain[:,4].reshape(-1,1)),color=\"blue\") \n",
    "plt.xlabel(\"Generousity\")\n",
    "plt.ylabel(\"Happiness Index\")\n",
    "plt.title(\"Graph of Generousity vs Happiness\")\n",
    "plt.legend(loc='lower right')\n",
    "\n",
    "plt.show()\n",
    "x=xtest[:,4]\n",
    "y=alg_pred.predict(ytest.reshape(-1,1))\n",
    "print('Correlation between data is : ',PearsonR(x,y)[0])\n",
    "print(\"Conclusion: Happy people may or maynot be donating :(- World bank\")\n"
   ]
  },
  {
   "cell_type": "code",
   "execution_count": 14,
   "metadata": {},
   "outputs": [
    {
     "data": {
      "text/html": [
       "<div>\n",
       "<style>\n",
       "    .dataframe thead tr:only-child th {\n",
       "        text-align: right;\n",
       "    }\n",
       "\n",
       "    .dataframe thead th {\n",
       "        text-align: left;\n",
       "    }\n",
       "\n",
       "    .dataframe tbody tr th {\n",
       "        vertical-align: top;\n",
       "    }\n",
       "</style>\n",
       "<table border=\"1\" class=\"dataframe\">\n",
       "  <thead>\n",
       "    <tr style=\"text-align: right;\">\n",
       "      <th></th>\n",
       "      <th>Life Ladder</th>\n",
       "      <th>Log GDP per capita</th>\n",
       "      <th>Social support</th>\n",
       "      <th>Healthy life expectancy at birth</th>\n",
       "      <th>Freedom to make life choices</th>\n",
       "      <th>Generosity</th>\n",
       "      <th>Perceptions of corruption</th>\n",
       "      <th>Positive affect</th>\n",
       "      <th>Negative affect</th>\n",
       "      <th>Confidence in national government</th>\n",
       "      <th>Democratic Quality</th>\n",
       "      <th>Delivery Quality</th>\n",
       "      <th>Standard deviation of ladder by country-year</th>\n",
       "      <th>Standard deviation/Mean of ladder by country-year</th>\n",
       "    </tr>\n",
       "  </thead>\n",
       "  <tbody>\n",
       "    <tr>\n",
       "      <th>0</th>\n",
       "      <td>4.220169</td>\n",
       "      <td>7.497288</td>\n",
       "      <td>0.559072</td>\n",
       "      <td>49.871265</td>\n",
       "      <td>0.522566</td>\n",
       "      <td>0.057393</td>\n",
       "      <td>0.793246</td>\n",
       "      <td>0.564953</td>\n",
       "      <td>0.348332</td>\n",
       "      <td>0.32499</td>\n",
       "      <td>NaN</td>\n",
       "      <td>NaN</td>\n",
       "      <td>1.796219</td>\n",
       "      <td>0.425627</td>\n",
       "    </tr>\n",
       "  </tbody>\n",
       "</table>\n",
       "</div>"
      ],
      "text/plain": [
       "   Life Ladder  Log GDP per capita  Social support  \\\n",
       "0     4.220169            7.497288        0.559072   \n",
       "\n",
       "   Healthy life expectancy at birth  Freedom to make life choices  Generosity  \\\n",
       "0                         49.871265                      0.522566    0.057393   \n",
       "\n",
       "   Perceptions of corruption  Positive affect  Negative affect  \\\n",
       "0                   0.793246         0.564953         0.348332   \n",
       "\n",
       "   Confidence in national government  Democratic Quality  Delivery Quality  \\\n",
       "0                            0.32499                 NaN               NaN   \n",
       "\n",
       "   Standard deviation of ladder by country-year  \\\n",
       "0                                      1.796219   \n",
       "\n",
       "   Standard deviation/Mean of ladder by country-year  \n",
       "0                                           0.425627  "
      ]
     },
     "execution_count": 14,
     "metadata": {},
     "output_type": "execute_result"
    }
   ],
   "source": [
    "data1.head(1)"
   ]
  },
  {
   "cell_type": "code",
   "execution_count": 15,
   "metadata": {},
   "outputs": [
    {
     "data": {
      "image/png": "[encoded data removed]",
      "text/plain": [
       "<matplotlib.figure.Figure at 0x1ee90ceab38>"
      ]
     },
     "metadata": {},
     "output_type": "display_data"
    },
    {
     "name": "stdout",
     "output_type": "stream",
     "text": [
      "Correlation between data is :  nan\n",
      "Conclusion: Negative Correlation, higher the corruption, then lower the happiness gets\n",
      "Conclusion: Countries where corruption is low,People are very happy but at corrupt places the distinction is lost, though correlation is clearly negative\n"
     ]
    },
    {
     "name": "stderr",
     "output_type": "stream",
     "text": [
      "C:\\Users\\80LM0141IH\\Anaconda3\\lib\\site-packages\\scipy\\stats\\stats.py:3021: RuntimeWarning: invalid value encountered in double_scalars\n",
      "  r = r_num / r_den\n",
      "C:\\Users\\80LM0141IH\\Anaconda3\\lib\\site-packages\\scipy\\stats\\stats.py:5277: RuntimeWarning: invalid value encountered in less\n",
      "  x = np.where(x < 1.0, x, 1.0)  # if x > 1 then return 1.0\n"
     ]
    }
   ],
   "source": [
    "plt.scatter(xtrain[:,5],ytrain,color=\"red\", label=\"training data\")\n",
    "plt.scatter(xtest[:,5],ypred,color=\"blue\", label=\"predicted data\")\n",
    "alg_pred=LR()\n",
    "alg_pred.fit(xtrain[:,5].reshape(-1,1),ytrain)\n",
    "plt.plot(xtrain[:,5],alg_pred.predict(xtrain[:,5].reshape(-1,1)),color=\"blue\")\n",
    "plt.xlabel(\"Perception Towards Corruption\")\n",
    "plt.ylabel(\"Happiness Index\")\n",
    "plt.title(\"Graph of Perception Towards Corruption vs Happiness\")\n",
    "plt.legend(loc='lower left')\n",
    "\n",
    "plt.show()\n",
    "x=xtest[:,0]\n",
    "y=alg_pred.predict(ytest.reshape(-1,1))\n",
    "print('Correlation between data is : ',PearsonR(x,y)[0])\n",
    "print(\"Conclusion: Negative Correlation, higher the corruption, then lower the happiness gets\")\n",
    "print(\"Conclusion: Countries where corruption is low,People are very happy but at corrupt places the distinction is lost, though correlation is clearly negative\")\n"
   ]
  },
  {
   "cell_type": "code",
   "execution_count": 16,
   "metadata": {},
   "outputs": [
    {
     "data": {
      "image/png": "[encoded data removed]",
      "text/plain": [
       "<matplotlib.figure.Figure at 0x1ee90d799b0>"
      ]
     },
     "metadata": {},
     "output_type": "display_data"
    },
    {
     "name": "stdout",
     "output_type": "stream",
     "text": [
      "Correlation between data is :  nan\n"
     ]
    },
    {
     "name": "stderr",
     "output_type": "stream",
     "text": [
      "C:\\Users\\80LM0141IH\\Anaconda3\\lib\\site-packages\\scipy\\stats\\stats.py:3021: RuntimeWarning: invalid value encountered in double_scalars\n",
      "  r = r_num / r_den\n",
      "C:\\Users\\80LM0141IH\\Anaconda3\\lib\\site-packages\\scipy\\stats\\stats.py:5277: RuntimeWarning: invalid value encountered in less\n",
      "  x = np.where(x < 1.0, x, 1.0)  # if x > 1 then return 1.0\n"
     ]
    }
   ],
   "source": [
    "plt.scatter(xtrain[:,6],ytrain,color=\"red\", label=\"training data\")\n",
    "plt.scatter(xtest[:,6],ypred,color=\"blue\", label=\"predicted data\")\n",
    "alg_pred=LR()\n",
    "alg_pred.fit(xtrain[:,6].reshape(-1,1),ytrain)\n",
    "plt.plot(xtrain[:,6],alg_pred.predict(xtrain[:,6].reshape(-1,1)),color=\"blue\")\n",
    "plt.xlabel(\"Positivity\")\n",
    "plt.ylabel(\"Happiness Index\")\n",
    "plt.title(\"Graph of Positivity vs Happiness\")\n",
    "plt.legend(loc='upper left')\n",
    "\n",
    "plt.show()\n",
    "x=xtest[:,0]\n",
    "y=alg_pred.predict(ytest.reshape(-1,1))\n",
    "print('Correlation between data is : ',PearsonR(x,y)[0])\n",
    "\n"
   ]
  },
  {
   "cell_type": "code",
   "execution_count": 17,
   "metadata": {},
   "outputs": [
    {
     "data": {
      "image/png": "[encoded data removed]",
      "text/plain": [
       "<matplotlib.figure.Figure at 0x1ee90a37860>"
      ]
     },
     "metadata": {},
     "output_type": "display_data"
    },
    {
     "name": "stdout",
     "output_type": "stream",
     "text": [
      "Correlation between data is :  nan\n"
     ]
    },
    {
     "name": "stderr",
     "output_type": "stream",
     "text": [
      "C:\\Users\\80LM0141IH\\Anaconda3\\lib\\site-packages\\scipy\\stats\\stats.py:3021: RuntimeWarning: invalid value encountered in double_scalars\n",
      "  r = r_num / r_den\n",
      "C:\\Users\\80LM0141IH\\Anaconda3\\lib\\site-packages\\scipy\\stats\\stats.py:5277: RuntimeWarning: invalid value encountered in less\n",
      "  x = np.where(x < 1.0, x, 1.0)  # if x > 1 then return 1.0\n"
     ]
    }
   ],
   "source": [
    "plt.scatter(xtrain[:,7],ytrain,color=\"red\", label=\"training data\")\n",
    "plt.scatter(xtest[:,7],ypred,color=\"blue\", label=\"predicted data\")\n",
    "alg_pred=LR()\n",
    "alg_pred.fit(xtrain[:,7].reshape(-1,1),ytrain)\n",
    "plt.plot(xtrain[:,7],alg_pred.predict(xtrain[:,7].reshape(-1,1)),color=\"blue\")\n",
    "plt.xlabel(\"Negativity\")\n",
    "plt.ylabel(\"Happiness Index\")\n",
    "plt.title(\"Graph of Negativity vs Happiness Index\")\n",
    "plt.legend(loc='upper right')\n",
    "\n",
    "plt.show()\n",
    "x=xtest[:,0]\n",
    "y=alg_pred.predict(ytest.reshape(-1,1))\n",
    "print('Correlation between data is : ',PearsonR(x,y)[0])\n"
   ]
  },
  {
   "cell_type": "markdown",
   "metadata": {},
   "source": [
    "# Without polynomial Features"
   ]
  },
  {
   "cell_type": "code",
   "execution_count": 30,
   "metadata": {
    "scrolled": true
   },
   "outputs": [
    {
     "name": "stdout",
     "output_type": "stream",
     "text": [
      "Intercept:  -2.9158060805228567\n",
      "Coefficients :  [ 0.26172879  2.65370473  0.03259805  1.44172895  0.83717626 -0.19603272\n",
      "  1.26875172  0.16341241 -0.54911221]\n",
      "Accuracy of prediction on training set is :  0.7847877626684571\n",
      "Accuracy of prediction on test set is :  0.8254753148144839\n"
     ]
    }
   ],
   "source": [
    "import pandas as pd\n",
    "import numpy as np\n",
    "from sklearn.preprocessing import Imputer\n",
    "from sklearn.model_selection import train_test_split\n",
    "from sklearn.linear_model import LinearRegression as LR\n",
    "from sklearn.preprocessing import LabelEncoder\n",
    "from sklearn.preprocessing import OneHotEncoder\n",
    "import matplotlib.pyplot as plt\n",
    "import scipy as sp\n",
    "\n",
    "# data=pd.read_excel(\"World Happiness Data.xlsx\")\n",
    "data=pd.read_csv(\"World Happiness Data.csv\")\n",
    "data1=data[data.year==2016]\n",
    "data1=data1.reset_index()\n",
    "\n",
    "data1=data1.drop('index',axis=1)\n",
    "data1=data1.drop(\"WP5 Country\",axis=1)\n",
    "data1=data1.drop([\"country\",\"year\"],axis=1)\n",
    "Y=data1[\"Life Ladder\"].values\n",
    "X=data1.drop([\"Life Ladder\",\"Democratic Quality\",\"Delivery Quality\",\"Standard deviation of ladder by country-year\",\"Standard deviation/Mean of ladder by country-year\"],axis=1).values\n",
    "data1=data1.drop([\"Life Ladder\",\"Democratic Quality\",\"Delivery Quality\",\"Standard deviation of ladder by country-year\",\"Standard deviation/Mean of ladder by country-year\"],axis=1)\n",
    "\n",
    "# Here the data is being imputed and the missing values are being replaced with the mean of all the values\n",
    "data1\n",
    "imp=Imputer(missing_values=\"NaN\",strategy=\"mean\")\n",
    "X=imp.fit_transform(X)\n",
    "data1\n",
    "\n",
    "\n",
    "# Normalize the data using sklearn\n",
    "# Converting features to degree 2\n",
    "# from sklearn.preprocessing import PolynomialFeatures\n",
    "# pol_reg=PolynomialFeatures(degree=2)\n",
    "# X=pol_reg.fit_transform(X)\n",
    "\n",
    "xtrain,xtest,ytrain,ytest=train_test_split(X,Y)\n",
    "\n",
    "\n",
    "# from sklearn.preprocessing import StandardScaler as SC\n",
    "# sc_X=SC()\n",
    "# xtrain=sc_X.fit_transform(xtrain)\n",
    "# xtest=sc_X.transform(xtest)\n",
    "from sklearn.metrics import r2_score\n",
    "from sklearn.linear_model import LinearRegression as LR\n",
    "\n",
    "def PearsonR(x,y):\n",
    "    return(sp.stats.pearsonr(x,y))\n",
    "def AccuracyScore(ytrue,ypred):\n",
    "    return r2_score(ytrue,ypred)  \n",
    "def AccuracyScore(ytrue,ypred):\n",
    "    return r2_score(ytrue,ypred) \n",
    "alg=LR()\n",
    "alg.fit(xtrain,ytrain)\n",
    "print('Intercept: ',alg.intercept_)\n",
    "print(\"Coefficients : \",alg.coef_)\n",
    "ypred=alg.predict(xtest)\n",
    "print('Accuracy of prediction on training set is : ',AccuracyScore(ytrain,alg.predict(xtrain)))\n",
    "print('Accuracy of prediction on test set is : ',AccuracyScore(ytest,ypred))\n"
   ]
  },
  {
   "cell_type": "code",
   "execution_count": 28,
   "metadata": {},
   "outputs": [
    {
     "name": "stdout",
     "output_type": "stream",
     "text": [
      "Intercept:  -3.4887001967942544\n",
      "Coefficients :  [ 0.29568471  2.63036825  0.03393259  1.55020463  0.86053028 -0.11584835\n",
      "  1.31497348  0.42298253 -0.60901948]\n",
      "Accuracy of prediction on training set is :  0.7786242523741447\n",
      "Accuracy of prediction on test set is :  0.8637060502717061\n"
     ]
    }
   ],
   "source": []
  },
  {
   "cell_type": "markdown",
   "metadata": {},
   "source": [
    "# With Polynomial Features"
   ]
  },
  {
   "cell_type": "code",
   "execution_count": 29,
   "metadata": {},
   "outputs": [
    {
     "name": "stdout",
     "output_type": "stream",
     "text": [
      "Intercept:  -7587439874.14824\n",
      "Coefficients :  [ 7.58743986e+09 -9.81712735e-01 -1.91551273e+01  4.63779812e-01\n",
      "  7.63762962e+00 -1.04208443e+01  2.79511438e+01 -4.26141556e+00\n",
      " -8.42479438e+00  7.47576662e+00  1.17570610e-01  9.11818344e-01\n",
      " -5.09965353e-02 -4.79902139e-02  1.39145110e+00  1.71602722e+00\n",
      "  8.98014626e-02 -5.35354572e-01  4.08283223e-01 -1.50616206e+01\n",
      "  2.64112955e-01  8.66842319e+00 -7.46328342e+00 -4.37227129e+00\n",
      "  1.66411378e+01  8.55793767e+00  7.27595197e+00  3.83543583e-05\n",
      "  2.05308047e-01 -2.41196507e-01 -3.84133433e-01 -2.83995554e-03\n",
      "  2.24200691e-01 -1.96171558e-01 -1.71319574e+01  4.44912883e+00\n",
      " -1.23096616e+01  9.69560573e+00 -1.13591251e+00  8.17966843e+00\n",
      " -3.40602334e+00  1.09927422e-01  1.44452736e+01  1.80232254e+01\n",
      "  6.43219051e-01 -4.36056833e+00  5.36987126e+00 -5.36107345e+00\n",
      " -5.73838588e+00 -8.51024051e+00 -1.19804946e+01 -9.75294495e+00\n",
      "  6.85388159e+00  4.42001290e+00 -2.83852223e+00]\n",
      "Accuracy of prediction on training set is :  0.9320036309788358\n",
      "Accuracy of prediction on test set is :  0.2159972552611158\n"
     ]
    }
   ],
   "source": [
    "\n",
    "import pandas as pd\n",
    "import numpy as np\n",
    "from sklearn.preprocessing import Imputer\n",
    "from sklearn.model_selection import train_test_split\n",
    "from sklearn.linear_model import LinearRegression as LR\n",
    "from sklearn.preprocessing import LabelEncoder\n",
    "from sklearn.preprocessing import OneHotEncoder\n",
    "import matplotlib.pyplot as plt\n",
    "import scipy as sp\n",
    "\n",
    "# data=pd.read_excel(\"World Happiness Data.xlsx\")\n",
    "data=pd.read_csv(\"World Happiness Data.csv\")\n",
    "data1=data[data.year==2016]\n",
    "data1=data1.reset_index()\n",
    "\n",
    "data1=data1.drop('index',axis=1)\n",
    "data1=data1.drop(\"WP5 Country\",axis=1)\n",
    "data1=data1.drop([\"country\",\"year\"],axis=1)\n",
    "Y=data1[\"Life Ladder\"].values\n",
    "X=data1.drop([\"Life Ladder\",\"Democratic Quality\",\"Delivery Quality\",\"Standard deviation of ladder by country-year\",\"Standard deviation/Mean of ladder by country-year\"],axis=1).values\n",
    "data1=data1.drop([\"Life Ladder\",\"Democratic Quality\",\"Delivery Quality\",\"Standard deviation of ladder by country-year\",\"Standard deviation/Mean of ladder by country-year\"],axis=1)\n",
    "\n",
    "# Here the data is being imputed and the missing values are being replaced with the mean of all the values\n",
    "data1\n",
    "imp=Imputer(missing_values=\"NaN\",strategy=\"mean\")\n",
    "X=imp.fit_transform(X)\n",
    "data1\n",
    "# Normalize the data using sklearn\n",
    "# Converting features to degree 2\n",
    "from sklearn.preprocessing import PolynomialFeatures\n",
    "pol_reg=PolynomialFeatures(degree=2)\n",
    "X=pol_reg.fit_transform(X)\n",
    "\n",
    "\n",
    "xtrain,xtest,ytrain,ytest=train_test_split(X,Y)\n",
    "\n",
    "\n",
    "# from sklearn.preprocessing import StandardScaler as SC\n",
    "# sc_X=SC()\n",
    "# xtrain=sc_X.fit_transform(xtrain)\n",
    "# xtest=sc_X.transform(xtest)\n",
    "from sklearn.metrics import r2_score\n",
    "from sklearn.linear_model import LinearRegression as LR\n",
    "\n",
    "def PearsonR(x,y):\n",
    "    return(sp.stats.pearsonr(x,y))\n",
    "def AccuracyScore(ytrue,ypred):\n",
    "    return r2_score(ytrue,ypred)  \n",
    "def AccuracyScore(ytrue,ypred):\n",
    "    return r2_score(ytrue,ypred) \n",
    "alg=LR()\n",
    "alg.fit(xtrain,ytrain)\n",
    "print('Intercept: ',alg.intercept_)\n",
    "print(\"Coefficients : \",alg.coef_)\n",
    "ypred=alg.predict(xtest)\n",
    "print('Accuracy of prediction on training set is : ',AccuracyScore(ytrain,alg.predict(xtrain)))\n",
    "print('Accuracy of prediction on test set is : ',AccuracyScore(ytest,ypred))\n"
   ]
  }
 ],
 "metadata": {
  "kernelspec": {
   "display_name": "Python 3",
   "language": "python",
   "name": "python3"
  },
  "language_info": {
   "codemirror_mode": {
    "name": "ipython",
    "version": 3
   },
   "file_extension": ".py",
   "mimetype": "text/x-python",
   "name": "python",
   "nbconvert_exporter": "python",
   "pygments_lexer": "ipython3",
   "version": "3.6.3"
  }
 },
 "nbformat": 4,
 "nbformat_minor": 2
}
